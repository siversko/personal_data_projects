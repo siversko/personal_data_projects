{
 "cells": [
  {
   "cell_type": "markdown",
   "metadata": {},
   "source": [
    "# Fourier transformations of audio signals"
   ]
  },
  {
   "cell_type": "markdown",
   "metadata": {},
   "source": [
    "The Fourier transformation is a method of transforming between the frequency and time domains.\n",
    "\n",
    "$$ f(t) \\leftrightarrow F(\\omega) $$\n",
    "\n",
    "such that\n",
    "\n",
    "$$ F(\\omega) = \\mathcal{F}(f(t))= \\int_{-\\infty}^{\\infty} \\mathcal{f}(t) \\exp(-i\\omega t) dt$$\n",
    "\n",
    "This is a fundamental method for signal decomposition and its descrete implementation is important for practical signal processing and can be found in many other applications."
   ]
  },
  {
   "cell_type": "markdown",
   "metadata": {
    "vscode": {
     "languageId": "plaintext"
    }
   },
   "source": [
    "The purpose of this project is to gain experience with the use of the Fourier transform \n",
    "\n",
    "1. Apply the Fourier transform on a number of .wav sound files for examination of the component frequencies\n",
    "1. Filter out some component frequencies to examine results\n",
    "\n",
    "Further goals may be to\n",
    "\n",
    "1. Implement the Fourier transform to work with a input stream from a audio recording device using the [`Soundevice`](https://python-sounddevice.readthedocs.io/en/0.5.1/) python library "
   ]
  }
 ],
 "metadata": {
  "language_info": {
   "name": "python"
  }
 },
 "nbformat": 4,
 "nbformat_minor": 2
}
