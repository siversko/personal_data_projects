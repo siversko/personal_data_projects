{
 "cells": [
  {
   "cell_type": "markdown",
   "metadata": {},
   "source": []
  },
  {
   "cell_type": "code",
   "execution_count": null,
   "metadata": {},
   "outputs": [],
   "source": [
    "import os\n",
    "import audio_fft\n",
    "import stream_fft\n",
    "import seaborn\n",
    "import matplotlib.pyplot as plt\n",
    "import sounddevice as sd\n",
    "\n",
    "seaborn.set_style(\"whitegrid\")\n",
    "%matplotlib inline\n",
    "sd.default.samplerate = 44100\n",
    "sd.default.channels = 2"
   ]
  },
  {
   "cell_type": "code",
   "execution_count": null,
   "metadata": {},
   "outputs": [],
   "source": [
    "a_fft = audio_fft.AudioFFT()\n",
    "a_fft.samplerate = sd.default.samplerate\n",
    "a_fft.channels = sd.default.channels\n",
    "\n",
    "a_fft.set_data(stream_fft.rec_reference_sound(duration=6))\n",
    "fig, ax = plt.subplots(figsize=(20,8))\n",
    "a_fft.signal_plot(a_fft.get_data(), ax)\n",
    "plt.show()"
   ]
  },
  {
   "cell_type": "code",
   "execution_count": null,
   "metadata": {},
   "outputs": [],
   "source": [
    "sliced_data = audio_fft.slice_time(a_fft.get_data(), a_fft.samplerate, 0, 10, 10)\n",
    "trimmed_data = audio_fft.trim_data(sliced_data)\n",
    "a_fft.set_data(trimmed_data)\n",
    "\n",
    "fig, ax = plt.subplots(figsize=(20,8))\n",
    "a_fft.signal_plot(a_fft.get_data(), ax)\n",
    "plt.show()"
   ]
  },
  {
   "cell_type": "code",
   "execution_count": null,
   "metadata": {},
   "outputs": [],
   "source": [
    "sd.play(a_fft.get_data())\n",
    "sd.wait()"
   ]
  },
  {
   "cell_type": "code",
   "execution_count": null,
   "metadata": {},
   "outputs": [],
   "source": [
    "a_fft.channels = sd.default.channels[0] # Channels is a input output pair\n",
    "print(sd.default.channels)\n",
    "a_fft.set_fdata()\n",
    "a_fft.set_frequencies()\n",
    "a_fft.find_dominant_frequencies()\n",
    "fig, ax = plt.subplots(figsize=(20,8))\n",
    "a_fft.frequency_plot(a_fft.get_fdata(), ax, pad = 100)\n",
    "plt.show()"
   ]
  },
  {
   "cell_type": "code",
   "execution_count": null,
   "metadata": {},
   "outputs": [],
   "source": [
    "stream_fft.save_reference_sound('.\\\\samples\\\\a\\\\a-sample010.wav', a_fft.get_data())"
   ]
  },
  {
   "cell_type": "code",
   "execution_count": null,
   "metadata": {},
   "outputs": [],
   "source": [
    "import chord_classifier\n",
    "\n",
    "chord_path_dict = chord_classifier.get_chord_path_dict('.\\\\samples\\*')\n",
    "chord_sample_data = chord_classifier.load_samples(chord_path_dict=chord_path_dict)\n",
    "chord_classifier.make_dataframe(chord_sample_data)"
   ]
  }
 ],
 "metadata": {
  "kernelspec": {
   "display_name": "base",
   "language": "python",
   "name": "python3"
  },
  "language_info": {
   "codemirror_mode": {
    "name": "ipython",
    "version": 3
   },
   "file_extension": ".py",
   "mimetype": "text/x-python",
   "name": "python",
   "nbconvert_exporter": "python",
   "pygments_lexer": "ipython3",
   "version": "3.9.12"
  }
 },
 "nbformat": 4,
 "nbformat_minor": 2
}
